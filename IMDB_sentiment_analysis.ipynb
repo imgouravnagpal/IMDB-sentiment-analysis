{
 "cells": [
  {
   "cell_type": "code",
   "execution_count": 129,
   "metadata": {
    "id": "DzJqzHv-LceW"
   },
   "outputs": [],
   "source": [
    "import tensorflow as tf\n",
    "import tensorflow.keras as keras\n",
    "import numpy as np\n",
    "import pandas as pd\n",
    "import matplotlib.pyplot as plt"
   ]
  },
  {
   "cell_type": "code",
   "execution_count": 130,
   "metadata": {
    "id": "eOvZ5uMyOtTF"
   },
   "outputs": [],
   "source": [
    "train=pd.read_csv(\"imdb_reviews.csv\")\n",
    "test=pd.read_csv(\"test_reviews.csv\")"
   ]
  },
  {
   "cell_type": "code",
   "execution_count": 131,
   "metadata": {
    "colab": {
     "base_uri": "https://localhost:8080/",
     "height": 204
    },
    "id": "YI4qnZOTPFqx",
    "outputId": "5240acf8-e34a-4857-ad0f-5b72ed9ae3b7"
   },
   "outputs": [
    {
     "data": {
      "text/html": [
       "<div>\n",
       "<style scoped>\n",
       "    .dataframe tbody tr th:only-of-type {\n",
       "        vertical-align: middle;\n",
       "    }\n",
       "\n",
       "    .dataframe tbody tr th {\n",
       "        vertical-align: top;\n",
       "    }\n",
       "\n",
       "    .dataframe thead th {\n",
       "        text-align: right;\n",
       "    }\n",
       "</style>\n",
       "<table border=\"1\" class=\"dataframe\">\n",
       "  <thead>\n",
       "    <tr style=\"text-align: right;\">\n",
       "      <th></th>\n",
       "      <th>Reviews</th>\n",
       "      <th>Sentiment</th>\n",
       "    </tr>\n",
       "  </thead>\n",
       "  <tbody>\n",
       "    <tr>\n",
       "      <th>0</th>\n",
       "      <td>&lt;START this film was just brilliant casting lo...</td>\n",
       "      <td>positive</td>\n",
       "    </tr>\n",
       "    <tr>\n",
       "      <th>1</th>\n",
       "      <td>&lt;START big hair big boobs bad music and a gian...</td>\n",
       "      <td>negative</td>\n",
       "    </tr>\n",
       "    <tr>\n",
       "      <th>2</th>\n",
       "      <td>&lt;START this has to be one of the worst films o...</td>\n",
       "      <td>negative</td>\n",
       "    </tr>\n",
       "    <tr>\n",
       "      <th>3</th>\n",
       "      <td>&lt;START the &lt;UNK&gt; &lt;UNK&gt; at storytelling the tra...</td>\n",
       "      <td>positive</td>\n",
       "    </tr>\n",
       "    <tr>\n",
       "      <th>4</th>\n",
       "      <td>&lt;START worst mistake of my life br br i picked...</td>\n",
       "      <td>negative</td>\n",
       "    </tr>\n",
       "  </tbody>\n",
       "</table>\n",
       "</div>"
      ],
      "text/plain": [
       "                                             Reviews Sentiment\n",
       "0  <START this film was just brilliant casting lo...  positive\n",
       "1  <START big hair big boobs bad music and a gian...  negative\n",
       "2  <START this has to be one of the worst films o...  negative\n",
       "3  <START the <UNK> <UNK> at storytelling the tra...  positive\n",
       "4  <START worst mistake of my life br br i picked...  negative"
      ]
     },
     "execution_count": 131,
     "metadata": {},
     "output_type": "execute_result"
    }
   ],
   "source": [
    "train.head()"
   ]
  },
  {
   "cell_type": "code",
   "execution_count": 132,
   "metadata": {
    "colab": {
     "base_uri": "https://localhost:8080/",
     "height": 204
    },
    "id": "LGqg6S8OXVmV",
    "outputId": "4318016f-7ebd-4592-c630-2dbde76b80e8"
   },
   "outputs": [
    {
     "data": {
      "text/html": [
       "<div>\n",
       "<style scoped>\n",
       "    .dataframe tbody tr th:only-of-type {\n",
       "        vertical-align: middle;\n",
       "    }\n",
       "\n",
       "    .dataframe tbody tr th {\n",
       "        vertical-align: top;\n",
       "    }\n",
       "\n",
       "    .dataframe thead th {\n",
       "        text-align: right;\n",
       "    }\n",
       "</style>\n",
       "<table border=\"1\" class=\"dataframe\">\n",
       "  <thead>\n",
       "    <tr style=\"text-align: right;\">\n",
       "      <th></th>\n",
       "      <th>Reviews</th>\n",
       "      <th>Sentiment</th>\n",
       "    </tr>\n",
       "  </thead>\n",
       "  <tbody>\n",
       "    <tr>\n",
       "      <th>0</th>\n",
       "      <td>&lt;START please give this one a miss br br &lt;UNK&gt;...</td>\n",
       "      <td>negative</td>\n",
       "    </tr>\n",
       "    <tr>\n",
       "      <th>1</th>\n",
       "      <td>&lt;START this film requires a lot of patience be...</td>\n",
       "      <td>positive</td>\n",
       "    </tr>\n",
       "    <tr>\n",
       "      <th>2</th>\n",
       "      <td>&lt;START many animation buffs consider &lt;UNK&gt; &lt;UN...</td>\n",
       "      <td>positive</td>\n",
       "    </tr>\n",
       "    <tr>\n",
       "      <th>3</th>\n",
       "      <td>&lt;START i generally love this type of movie how...</td>\n",
       "      <td>negative</td>\n",
       "    </tr>\n",
       "    <tr>\n",
       "      <th>4</th>\n",
       "      <td>&lt;START like some other people wrote i'm a die ...</td>\n",
       "      <td>positive</td>\n",
       "    </tr>\n",
       "  </tbody>\n",
       "</table>\n",
       "</div>"
      ],
      "text/plain": [
       "                                             Reviews Sentiment\n",
       "0  <START please give this one a miss br br <UNK>...  negative\n",
       "1  <START this film requires a lot of patience be...  positive\n",
       "2  <START many animation buffs consider <UNK> <UN...  positive\n",
       "3  <START i generally love this type of movie how...  negative\n",
       "4  <START like some other people wrote i'm a die ...  positive"
      ]
     },
     "execution_count": 132,
     "metadata": {},
     "output_type": "execute_result"
    }
   ],
   "source": [
    "test.head()"
   ]
  },
  {
   "cell_type": "code",
   "execution_count": 133,
   "metadata": {
    "id": "uf5XTq_hAxL6"
   },
   "outputs": [],
   "source": [
    "index=pd.read_csv(\"word_indexes.csv\")"
   ]
  },
  {
   "cell_type": "code",
   "execution_count": 134,
   "metadata": {
    "colab": {
     "base_uri": "https://localhost:8080/",
     "height": 204
    },
    "id": "AbkABN8jA_Ye",
    "outputId": "9e7ba619-7176-4e44-e0a7-155ca10ed731"
   },
   "outputs": [
    {
     "data": {
      "text/html": [
       "<div>\n",
       "<style scoped>\n",
       "    .dataframe tbody tr th:only-of-type {\n",
       "        vertical-align: middle;\n",
       "    }\n",
       "\n",
       "    .dataframe tbody tr th {\n",
       "        vertical-align: top;\n",
       "    }\n",
       "\n",
       "    .dataframe thead th {\n",
       "        text-align: right;\n",
       "    }\n",
       "</style>\n",
       "<table border=\"1\" class=\"dataframe\">\n",
       "  <thead>\n",
       "    <tr style=\"text-align: right;\">\n",
       "      <th></th>\n",
       "      <th>Words</th>\n",
       "      <th>Indexes</th>\n",
       "    </tr>\n",
       "  </thead>\n",
       "  <tbody>\n",
       "    <tr>\n",
       "      <th>0</th>\n",
       "      <td>tsukino</td>\n",
       "      <td>52009</td>\n",
       "    </tr>\n",
       "    <tr>\n",
       "      <th>1</th>\n",
       "      <td>nunnery</td>\n",
       "      <td>52010</td>\n",
       "    </tr>\n",
       "    <tr>\n",
       "      <th>2</th>\n",
       "      <td>sonja</td>\n",
       "      <td>16819</td>\n",
       "    </tr>\n",
       "    <tr>\n",
       "      <th>3</th>\n",
       "      <td>vani</td>\n",
       "      <td>63954</td>\n",
       "    </tr>\n",
       "    <tr>\n",
       "      <th>4</th>\n",
       "      <td>woods</td>\n",
       "      <td>1411</td>\n",
       "    </tr>\n",
       "  </tbody>\n",
       "</table>\n",
       "</div>"
      ],
      "text/plain": [
       "     Words  Indexes\n",
       "0  tsukino    52009\n",
       "1  nunnery    52010\n",
       "2    sonja    16819\n",
       "3     vani    63954\n",
       "4    woods     1411"
      ]
     },
     "execution_count": 134,
     "metadata": {},
     "output_type": "execute_result"
    }
   ],
   "source": [
    "index.head()"
   ]
  },
  {
   "cell_type": "code",
   "execution_count": 135,
   "metadata": {
    "id": "zuiMcF5XD65R"
   },
   "outputs": [],
   "source": [
    "index=dict(zip(index.Words,index.Indexes))\n",
    "index[\"<PAD\"]=0\n",
    "index[\"<START\"]=1\n",
    "index[\"<UNK>\"]=2\n",
    "index[\"<UNUSED>\"]=3"
   ]
  },
  {
   "cell_type": "code",
   "execution_count": 136,
   "metadata": {
    "id": "nay4o8dSAqbu"
   },
   "outputs": [],
   "source": [
    "def review_encoder(text):\n",
    "  arr=[index[word] for word in text]\n",
    "  return arr"
   ]
  },
  {
   "cell_type": "code",
   "execution_count": 137,
   "metadata": {
    "id": "bUhde9eLE5H3"
   },
   "outputs": [],
   "source": [
    "train_data,train_labels=train['Reviews'],train['Sentiment']\n",
    "test_data, test_labels=test['Reviews'],test['Sentiment']\n",
    "train_data=train_data.apply(lambda review:review.split())\n",
    "test_data=test_data.apply(lambda review:review.split())\n",
    "train_data=train_data.apply(review_encoder)\n",
    "test_data=test_data.apply(review_encoder)"
   ]
  },
  {
   "cell_type": "code",
   "execution_count": 138,
   "metadata": {
    "colab": {
     "base_uri": "https://localhost:8080/"
    },
    "id": "Z3M_klO4MhFA",
    "outputId": "df45cc5c-eb63-4a45-c3d9-86550578669c"
   },
   "outputs": [
    {
     "data": {
      "text/plain": [
       "0    [1, 14, 22, 16, 43, 530, 973, 1622, 1385, 65, ...\n",
       "1    [1, 194, 1153, 194, 8255, 78, 228, 5, 6, 1463,...\n",
       "2    [1, 14, 47, 8, 30, 31, 7, 4, 249, 108, 7, 4, 5...\n",
       "3    [1, 4, 2, 2, 33, 2804, 4, 2040, 432, 111, 153,...\n",
       "4    [1, 249, 1323, 7, 61, 113, 10, 10, 13, 1637, 1...\n",
       "Name: Reviews, dtype: object"
      ]
     },
     "execution_count": 138,
     "metadata": {},
     "output_type": "execute_result"
    }
   ],
   "source": [
    "train_data.head()"
   ]
  },
  {
   "cell_type": "code",
   "execution_count": 139,
   "metadata": {
    "id": "p01DiByEJ7fw"
   },
   "outputs": [],
   "source": [
    "def encode_sentiments(x):\n",
    "  if x=='positive':\n",
    "    return 1\n",
    "  else:\n",
    "    return 0\n",
    "\n",
    "train_labels=train_labels.apply(encode_sentiments)\n",
    "test_labels=test_labels.apply(encode_sentiments)"
   ]
  },
  {
   "cell_type": "code",
   "execution_count": 140,
   "metadata": {},
   "outputs": [],
   "source": [
    "train_data=keras.preprocessing.sequence.pad_sequences(train_data,value=0,padding='post',maxlen=256)\n",
    "test_data=keras.preprocessing.sequence.pad_sequences(test_data,value=0,padding='post',maxlen=256)"
   ]
  },
  {
   "cell_type": "code",
   "execution_count": 141,
   "metadata": {
    "id": "D1WDSfAIPs31"
   },
   "outputs": [],
   "source": [
    "model = keras.Sequential([\n",
    "    keras.layers.Embedding(10000, 16, input_length=256),\n",
    "    keras.layers.GlobalAveragePooling1D(),\n",
    "    keras.layers.Dense(16, activation='relu'),\n",
    "    keras.layers.Dense(1, activation='sigmoid')\n",
    "])"
   ]
  },
  {
   "cell_type": "code",
   "execution_count": 142,
   "metadata": {
    "id": "JPsQuds5QYud"
   },
   "outputs": [],
   "source": [
    "model.compile(optimizer='adam',loss='binary_crossentropy',metrics=['accuracy'])"
   ]
  },
  {
   "cell_type": "code",
   "execution_count": 143,
   "metadata": {
    "colab": {
     "base_uri": "https://localhost:8080/"
    },
    "id": "YxUCLcRJQmBB",
    "outputId": "5dff0e7b-4544-48ac-fb87-4108ab34552b"
   },
   "outputs": [
    {
     "name": "stdout",
     "output_type": "stream",
     "text": [
      "Epoch 1/30\n",
      "49/49 [==============================] - 2s 25ms/step - loss: 0.6913 - accuracy: 0.6127 - val_loss: 0.6880 - val_accuracy: 0.6332\n",
      "Epoch 2/30\n",
      "49/49 [==============================] - 1s 23ms/step - loss: 0.6804 - accuracy: 0.6992 - val_loss: 0.6705 - val_accuracy: 0.7188\n",
      "Epoch 3/30\n",
      "49/49 [==============================] - 1s 20ms/step - loss: 0.6506 - accuracy: 0.7668 - val_loss: 0.6310 - val_accuracy: 0.7647\n",
      "Epoch 4/30\n",
      "49/49 [==============================] - 1s 20ms/step - loss: 0.5968 - accuracy: 0.7949 - val_loss: 0.5726 - val_accuracy: 0.7973\n",
      "Epoch 5/30\n",
      "49/49 [==============================] - 1s 21ms/step - loss: 0.5275 - accuracy: 0.8254 - val_loss: 0.5058 - val_accuracy: 0.8224\n",
      "Epoch 6/30\n",
      "49/49 [==============================] - 1s 23ms/step - loss: 0.4564 - accuracy: 0.8496 - val_loss: 0.4462 - val_accuracy: 0.8408\n",
      "Epoch 7/30\n",
      "49/49 [==============================] - 1s 22ms/step - loss: 0.3979 - accuracy: 0.8678 - val_loss: 0.4015 - val_accuracy: 0.8509\n",
      "Epoch 8/30\n",
      "49/49 [==============================] - 1s 21ms/step - loss: 0.3537 - accuracy: 0.8793 - val_loss: 0.3699 - val_accuracy: 0.8587\n",
      "Epoch 9/30\n",
      "49/49 [==============================] - 1s 22ms/step - loss: 0.3203 - accuracy: 0.8881 - val_loss: 0.3477 - val_accuracy: 0.8643\n",
      "Epoch 10/30\n",
      "49/49 [==============================] - 1s 23ms/step - loss: 0.2947 - accuracy: 0.8957 - val_loss: 0.3312 - val_accuracy: 0.8683\n",
      "Epoch 11/30\n",
      "49/49 [==============================] - 1s 22ms/step - loss: 0.2741 - accuracy: 0.9011 - val_loss: 0.3197 - val_accuracy: 0.8704\n",
      "Epoch 12/30\n",
      "49/49 [==============================] - 1s 24ms/step - loss: 0.2570 - accuracy: 0.9084 - val_loss: 0.3098 - val_accuracy: 0.8744\n",
      "Epoch 13/30\n",
      "49/49 [==============================] - 1s 21ms/step - loss: 0.2423 - accuracy: 0.9125 - val_loss: 0.3027 - val_accuracy: 0.8755\n",
      "Epoch 14/30\n",
      "49/49 [==============================] - 1s 20ms/step - loss: 0.2296 - accuracy: 0.9177 - val_loss: 0.2973 - val_accuracy: 0.8778\n",
      "Epoch 15/30\n",
      "49/49 [==============================] - 1s 20ms/step - loss: 0.2187 - accuracy: 0.9204 - val_loss: 0.2951 - val_accuracy: 0.8782\n",
      "Epoch 16/30\n",
      "49/49 [==============================] - 1s 21ms/step - loss: 0.2082 - accuracy: 0.9254 - val_loss: 0.2904 - val_accuracy: 0.8807\n",
      "Epoch 17/30\n",
      "49/49 [==============================] - 1s 22ms/step - loss: 0.1994 - accuracy: 0.9291 - val_loss: 0.2907 - val_accuracy: 0.8792\n",
      "Epoch 18/30\n",
      "49/49 [==============================] - 1s 20ms/step - loss: 0.1913 - accuracy: 0.9314 - val_loss: 0.2879 - val_accuracy: 0.8818\n",
      "Epoch 19/30\n",
      "49/49 [==============================] - 1s 20ms/step - loss: 0.1830 - accuracy: 0.9358 - val_loss: 0.2875 - val_accuracy: 0.8824\n",
      "Epoch 20/30\n",
      "49/49 [==============================] - 1s 22ms/step - loss: 0.1757 - accuracy: 0.9384 - val_loss: 0.2886 - val_accuracy: 0.8821\n",
      "Epoch 21/30\n",
      "49/49 [==============================] - 1s 21ms/step - loss: 0.1695 - accuracy: 0.9407 - val_loss: 0.2880 - val_accuracy: 0.8827\n",
      "Epoch 22/30\n",
      "49/49 [==============================] - 1s 20ms/step - loss: 0.1631 - accuracy: 0.9441 - val_loss: 0.2891 - val_accuracy: 0.8820\n",
      "Epoch 23/30\n",
      "49/49 [==============================] - 1s 20ms/step - loss: 0.1572 - accuracy: 0.9464 - val_loss: 0.2914 - val_accuracy: 0.8823\n",
      "Epoch 24/30\n",
      "49/49 [==============================] - 1s 22ms/step - loss: 0.1518 - accuracy: 0.9485 - val_loss: 0.2930 - val_accuracy: 0.8829\n",
      "Epoch 25/30\n",
      "49/49 [==============================] - 1s 25ms/step - loss: 0.1465 - accuracy: 0.9508 - val_loss: 0.2958 - val_accuracy: 0.8818\n",
      "Epoch 26/30\n",
      "49/49 [==============================] - 1s 25ms/step - loss: 0.1416 - accuracy: 0.9527 - val_loss: 0.2982 - val_accuracy: 0.8824\n",
      "Epoch 27/30\n",
      "49/49 [==============================] - 1s 21ms/step - loss: 0.1369 - accuracy: 0.9544 - val_loss: 0.3025 - val_accuracy: 0.8796\n",
      "Epoch 28/30\n",
      "49/49 [==============================] - 1s 23ms/step - loss: 0.1326 - accuracy: 0.9566 - val_loss: 0.3068 - val_accuracy: 0.8788\n",
      "Epoch 29/30\n",
      "49/49 [==============================] - 2s 32ms/step - loss: 0.1284 - accuracy: 0.9584 - val_loss: 0.3088 - val_accuracy: 0.8792\n",
      "Epoch 30/30\n",
      "49/49 [==============================] - 1s 20ms/step - loss: 0.1240 - accuracy: 0.9598 - val_loss: 0.3124 - val_accuracy: 0.8798\n"
     ]
    }
   ],
   "source": [
    "#training the model\n",
    "history=model.fit(train_data,train_labels,epochs=30,batch_size=512,validation_data=(test_data,test_labels))"
   ]
  },
  {
   "cell_type": "code",
   "execution_count": 144,
   "metadata": {
    "colab": {
     "base_uri": "https://localhost:8080/"
    },
    "id": "aHLzEJI-RCWF",
    "outputId": "7f3c84cf-fc02-4d9c-c25d-b8ca15b3e95a"
   },
   "outputs": [
    {
     "name": "stdout",
     "output_type": "stream",
     "text": [
      "782/782 [==============================] - 2s 2ms/step - loss: 0.3124 - accuracy: 0.8798\n"
     ]
    }
   ],
   "source": [
    "loss,accuracy=model.evaluate(test_data,test_labels)"
   ]
  },
  {
   "cell_type": "code",
   "execution_count": 146,
   "metadata": {},
   "outputs": [],
   "source": [
    "import tensorflowjs as tfjs\n",
    "tfjs.converters.save_keras_model(model, 'tfjs_model')\n"
   ]
  }
 ],
 "metadata": {
  "colab": {
   "collapsed_sections": [],
   "name": "IMDB_sentiment_analysis_final",
   "provenance": [],
   "toc_visible": true
  },
  "kernelspec": {
   "display_name": "Python 3 (ipykernel)",
   "language": "python",
   "name": "python3"
  },
  "language_info": {
   "codemirror_mode": {
    "name": "ipython",
    "version": 3
   },
   "file_extension": ".py",
   "mimetype": "text/x-python",
   "name": "python",
   "nbconvert_exporter": "python",
   "pygments_lexer": "ipython3",
   "version": "3.9.7"
  }
 },
 "nbformat": 4,
 "nbformat_minor": 1
}
